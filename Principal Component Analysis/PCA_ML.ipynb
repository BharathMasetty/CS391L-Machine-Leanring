{
 "cells": [
  {
   "cell_type": "code",
   "execution_count": 16,
   "metadata": {},
   "outputs": [],
   "source": [
    "from mlxtend.data import loadlocal_mnist\n",
    "import numpy as np\n",
    "from numpy import linalg as LA\n",
    "from matplotlib import pyplot as plt\n",
    "from sklearn.neighbors import KNeighborsClassifier\n",
    "from sklearn import metrics\n",
    "import time"
   ]
  },
  {
   "cell_type": "code",
   "execution_count": 17,
   "metadata": {},
   "outputs": [],
   "source": [
    "class PCA:\n",
    "    def __init__(self, data):\n",
    "        self.data = data\n",
    "        self.mean = np.mean(self.data, axis=1)\n",
    "        self.mean = self.mean[:, np.newaxis]\n",
    "        data_Norm = self.data - self.mean\n",
    "        self.COV = np.cov(data_Norm)\n",
    "        self.w, self.v = LA.eig(self.COV)\n",
    "\n",
    "    def reducedEIGSPACE(self, dim):\n",
    "        return self.v[:, 0:dim]\n",
    "\n",
    "    def Projection(self, Samples, v_reduced):\n",
    "        Samples_norm = Samples - self.mean\n",
    "        temp = np.empty((min(v_reduced.shape), Samples.shape[1]))\n",
    "        for i in range(Samples.shape[1]):\n",
    "            temp[:, i] = np.dot(np.transpose(v_reduced), Samples_norm[:, i])\n",
    "        return temp\n",
    "\n",
    "    def Inv_Projection(self, com_data, v_reduced):\n",
    "        temp = np.empty((max(v_reduced.shape), com_data.shape[1]))\n",
    "        for i in range(com_data.shape[1]):\n",
    "            temp[:, i] = np.dot(v_reduced, com_data[:, i])\n",
    "        return temp\n"
   ]
  },
  {
   "cell_type": "code",
   "execution_count": null,
   "metadata": {},
   "outputs": [],
   "source": []
  },
  {
   "cell_type": "code",
   "execution_count": 18,
   "metadata": {},
   "outputs": [],
   "source": [
    "class KNN:\n",
    "    def __init__(self, data_train, label_train, test_data, test_label):\n",
    "        self.data_train = np.transpose(data_train)\n",
    "        self.label_train = np.transpose(label_train)\n",
    "        self.test_data = np.transpose(test_data)\n",
    "        self.test_label = np.transpose(test_label)\n",
    "\n",
    "    def VariableK(self, max_k):\n",
    "        k_range = range(1, max_k)\n",
    "        scores = []\n",
    "        scores_list = []\n",
    "        Classification_time = []\n",
    "        for k in k_range:\n",
    "            start_time = time.time()\n",
    "            Classifier = KNeighborsClassifier(n_neighbors=k)\n",
    "            Classifier.fit(self.data_train, self.label_train)\n",
    "            y_predict = Classifier.predict(self.test_data)\n",
    "            scores_list.append(metrics.accuracy_score(self.test_label, y_predict))\n",
    "            Classification_time.append(time.time() - start_time)\n",
    "\n",
    "        # Plotting accuracy vs K\n",
    "        return scores_list, Classification_time\n",
    "\n",
    "    def FixedK(self, k):\n",
    "        Classifier = KNeighborsClassifier(n_neighbors=k)\n",
    "        Classifier.fit(self.data_train, self.label_train)\n",
    "        y_predict = Classifier.predict(self.test_data)\n",
    "        score = metrics.accuracy_score(self.test_label, y_predict)\n",
    "        return score\n",
    "\n",
    "    "
   ]
  },
  {
   "cell_type": "code",
   "execution_count": 19,
   "metadata": {},
   "outputs": [],
   "source": [
    "# Function to plot images\n",
    "def PlotImg(ImgVector, name):\n",
    "    img = ImgVector.reshape(28, 28)\n",
    "    plt.imsave(str(name) + '.png', img, cmap='gray')\n",
    "\n"
   ]
  },
  {
   "cell_type": "code",
   "execution_count": 20,
   "metadata": {},
   "outputs": [],
   "source": [
    "# Importing the training data\n",
    "X, y = loadlocal_mnist(images_path='/media/bharath/Storage/UTSPRING2020/MACHINE_LEARNING/ASSIGNMENT_1/train-images'\n",
    "                                   '-idx3-ubyte',\n",
    "                       labels_path='/media/bharath/Storage/UTSPRING2020/MACHINE_LEARNING/ASSIGNMENT_1/train-labels'\n",
    "                                   '-idx1-ubyte')\n",
    "# Importing the testing data\n",
    "X_test, y_test = loadlocal_mnist(images_path='/media/bharath/Storage/UTSPRING2020/MACHINE_LEARNING/ASSIGNMENT_1/t10k'\n",
    "                                             '-images-idx3-ubyte',\n",
    "                                 labels_path='/media/bharath/Storage/UTSPRING2020/MACHINE_LEARNING/ASSIGNMENT_1/t10k'\n",
    "                                             '-labels-idx1-ubyte')\n"
   ]
  },
  {
   "cell_type": "code",
   "execution_count": 21,
   "metadata": {},
   "outputs": [],
   "source": [
    "# Choosing first 10000 training images\n",
    "X = X[0:10000, :]\n",
    "y = y[0:10000]\n",
    "X_test = X_test[0:5000, :]\n",
    "y_test = y_test[0:5000]\n",
    "\n",
    "# Each Column Vector is an image of 784 pixels\n",
    "X = np.transpose(X)\n",
    "X_test = np.transpose(X_test)"
   ]
  },
  {
   "cell_type": "code",
   "execution_count": 22,
   "metadata": {},
   "outputs": [],
   "source": [
    "MyKNN = KNN(X, y, X_test, y_test)\n",
    "result, time_WO_PCA = MyKNN.VariableK(10)\n",
    "k_range = range(1, 11)"
   ]
  },
  {
   "cell_type": "code",
   "execution_count": 23,
   "metadata": {},
   "outputs": [
    {
     "name": "stderr",
     "output_type": "stream",
     "text": [
      "/home/bharath/.local/lib/python3.6/site-packages/ipykernel_launcher.py:17: ComplexWarning: Casting complex values to real discards the imaginary part\n"
     ]
    }
   ],
   "source": [
    "MyPCA = PCA(X)\n",
    "V_red = MyPCA.reducedEIGSPACE(50)\n",
    "X_train_pca = MyPCA.Projection(X, V_red)\n",
    "X_test_pca = MyPCA.Projection(X_test, V_red)\n",
    "MyKNN2 = KNN(X_train_pca, y, X_test_pca, y_test)\n",
    "scores_list, time_w_PCA = MyKNN2.VariableK(10)"
   ]
  },
  {
   "cell_type": "code",
   "execution_count": 34,
   "metadata": {},
   "outputs": [
    {
     "data": {
      "image/png": "[encoded data removed]",
      "text/plain": [
       "<Figure size 432x288 with 2 Axes>"
      ]
     },
     "metadata": {
      "needs_background": "light"
     },
     "output_type": "display_data"
    }
   ],
   "source": [
    "k_range = range(1,10)\n",
    "fig, ax1 = plt.subplots()\n",
    "\n",
    "ax1.set_xlabel('Number of Neighbours')\n",
    "ax1.set_ylabel('Accuracy')\n",
    "ax1.plot(k_range, result, 'r', label='without PCA')\n",
    "ax1.plot(k_range, scores_list, 'b', label='with PCA')\n",
    "ax1.legend(loc=\"best\")\n",
    "\n",
    "ax2 = ax1.twinx()\n",
    "ax2.set_ylabel('Computation Time')\n",
    "ax2.plot(k_range, time_WO_PCA, 'y', label='Time without PCA')\n",
    "ax2.plot(k_range, time_w_PCA, 'g', label='Time with PCA')\n",
    "ax2.legend(loc=\"best\")\n",
    "fig.tight_layout()\n",
    "plt.savefig('FIG7.png')\n"
   ]
  },
  {
   "cell_type": "code",
   "execution_count": null,
   "metadata": {},
   "outputs": [],
   "source": []
  },
  {
   "cell_type": "code",
   "execution_count": null,
   "metadata": {},
   "outputs": [],
   "source": []
  }
 ],
 "metadata": {
  "kernelspec": {
   "display_name": "Python 3",
   "language": "python",
   "name": "python3"
  },
  "language_info": {
   "codemirror_mode": {
    "name": "ipython",
    "version": 3
   },
   "file_extension": ".py",
   "mimetype": "text/x-python",
   "name": "python",
   "nbconvert_exporter": "python",
   "pygments_lexer": "ipython3",
   "version": "3.6.9"
  }
 },
 "nbformat": 4,
 "nbformat_minor": 4
}
