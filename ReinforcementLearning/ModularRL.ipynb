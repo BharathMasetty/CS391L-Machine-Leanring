{
 "cells": [
  {
   "cell_type": "code",
   "execution_count": 1,
   "metadata": {},
   "outputs": [],
   "source": [
    "import numpy as np\n",
    "from tqdm import tqdm_notebook\n",
    "from env import EnvSpec, Env, EnvWithModel\n",
    "from policy import Policy\n",
    "import matplotlib.pyplot as plt\n",
    "from matplotlib import colors\n",
    "from scipy import stats\n",
    "from mpl_toolkits import mplot3d"
   ]
  },
  {
   "cell_type": "code",
   "execution_count": 2,
   "metadata": {},
   "outputs": [],
   "source": [
    "class RandomPolicy(Policy):\n",
    "    def __init__(self, nA, p=None):\n",
    "        self.p = p if p is not None else np.array([1/nA]*nA)\n",
    "\n",
    "    def action_prob(self, state, action=None):\n",
    "        return self.p[action]\n",
    "\n",
    "    def action(self, state):\n",
    "        return np.random.choice(len(self.p), p=self.p)        "
   ]
  },
  {
   "cell_type": "markdown",
   "metadata": {},
   "source": [
    "## GridWorld"
   ]
  },
  {
   "cell_type": "code",
   "execution_count": 15,
   "metadata": {},
   "outputs": [],
   "source": [
    "class GridWorld(EnvWithModel):\n",
    "\n",
    "    def __init__(self, w = [0.25,0.25,0.25,0.25]):\n",
    "    \n",
    "    # 150 States. [0,1,2,3,4,5] Initialization. [144,145,146,147,148,148] terminal\n",
    "    # 3 actions 0 right, 1 up, 2 down\n",
    "    \n",
    "        env_spec = EnvSpec(150, 3, 1.)\n",
    "        super().__init__(env_spec)\n",
    "        self.trans_mat, self.r1, self.r2, self.r3, self.r4 = self._build_trans_mat()\n",
    "        self.terminal_state = [144, 145, 146, 147, 148, 149]\n",
    "        self.nLitter = 15\n",
    "        self.nObstacles = 15\n",
    "        self.w = w\n",
    "        self.state = 0\n",
    "        self.action = 0\n",
    "        \n",
    "    def _build_trans_mat(self):\n",
    "        \n",
    "        # TODO: Add Modular Rewards Later\n",
    "        \n",
    "        # t(s,a,s')\n",
    "        trans_mat = np.zeros((150,3,150), dtype=int)\n",
    "        \n",
    "        # Module 1 -- Goal\n",
    "        r_1 = np.zeros((150,3,150), dtype=int) - 10.\n",
    "        # Module 2 -- Sidewalk\n",
    "        r_2 = np.zeros((150,3,150), dtype=int) - 10.\n",
    "        # Module 3 -- Obstacles\n",
    "        r_3 = np.zeros((8,3,8))\n",
    "        # Module 4 -- Litter\n",
    "        r_4 = np.zeros((8,3,8))\n",
    "        \n",
    "        for s in range(150):\n",
    "           \n",
    "            # Transition Dynamics \n",
    "            if s < 144:\n",
    "                trans_mat[s][0][s+6] = 1.   # Moving to Right\n",
    "            if s == 0 or s % 6 == 0:\n",
    "                trans_mat[s][1][s] = 1.     # Banging into top wall\n",
    "            else:\n",
    "                trans_mat[s][1][s-1] = 1.   # Moving up\n",
    "            if (s+1) % 6 == 0:\n",
    "                trans_mat[s][2][s] = 1.     # Banging into Bottom wall\n",
    "            else:\n",
    "                trans_mat[s][2][s+1] = 1.   # Moving Down\n",
    "            \n",
    "            # First Module - Initialized with all -1\n",
    "            if s == 0 or s%6 == 0: \n",
    "                r_1[s][1][s] = -10.         # Banging into top wall -10\n",
    "            if (s+1)%6 == 0:\n",
    "                r_1[s][2][s] = -10.          # Banging into bottom wall -10\n",
    "            if s >=138 and s <= 143:\n",
    "                r_1[s][0][s+6] = 10.        # Reaching goal state -10\n",
    "                \n",
    "            # Sidewalk Module - Initilaized with zeros\n",
    "            if (s==2 or (s-2)%6 == 0) and s<144:                # Top row of sidewalk\n",
    "                r_2[s][0][s+6] = 1.         # Moving Right on the side walk +1 \n",
    "                r_2[s][1][s-1] = 0.        # Moving out of the side walk    \n",
    "                r_2[s][2][s+1] = 0.\n",
    "            if (s==3 or (s-3)%6 == 0) and s<144:                # Bottom row of sidewalk \n",
    "                r_2[s][0][s+6] = 1.       # Moving Right on the side walk +1\n",
    "                r_2[s][2][s+1] = 0.        # Moving out of the side walk  \n",
    "                r_2[s][1][s-1] = 0.\n",
    "            if (s==1 or (s-1)%6 == 0) and s<144:                # Positive reward for moving into the sidewalk    \n",
    "                r_2[s][2][s+1] = 0.\n",
    "            if (s==4 or (s-4)%6 == 0) and s<144:\n",
    "                r_2[s][1][s-1] = 0.\n",
    "                \n",
    "        for a in range(3):\n",
    "        # Once in terminal - Be in terminal\n",
    "            for s in range(144,150):\n",
    "                trans_mat[s][a][s] = 1.\n",
    "\n",
    "        # Obstacle and Litter Rewards\n",
    "        for s in range(8):\n",
    "            binState = np.binary_repr(s,width=3)\n",
    "            # Right\n",
    "            if binState[0] == '1':\n",
    "                r_3[s][0][:] = -10.        # Moving right into obstacle\n",
    "                r_4[s][0][:] = 5.          # Moving right into Litter\n",
    "            else:\n",
    "                r_3[s][0][:] = 3.         # Moving right no obstacle\n",
    "                r_4[s][0][:] = 0.          # Moving right no litter\n",
    "            # up\n",
    "            if binState[1] == '1':\n",
    "                r_3[s][1][:] = -10.        # Moving up into obstacle\n",
    "                r_4[s][1][:] = 5.          # Moving up into Litter\n",
    "            else:\n",
    "                r_3[s][1][:] = -2.        # Moving up no obstacle\n",
    "                r_4[s][1][:] = 0.          # Moving up no litter\n",
    "            #down\n",
    "            if binState[2] == '1':\n",
    "                r_3[s][2][:] = -10.        # Moving down into obstacle\n",
    "                r_4[s][2][:] = 5.          # Moving down into Litter\n",
    "            else:\n",
    "                r_3[s][2][:] = -2.        # Moving down no obstacle\n",
    "                r_4[s][2][:] = 0.          # Moving down no litter\n",
    "        \n",
    "        return trans_mat, r_1, r_2, r_3, r_4\n",
    "        \n",
    "    @property\n",
    "    def TD(self) -> np.array:\n",
    "        return self.trans_mat\n",
    "        \n",
    "    @property\n",
    "    def R(self) -> np.array:\n",
    "        return self.ret_mat\n",
    "        \n",
    "    def reset(self) -> int:\n",
    "        \n",
    "        AllStates = np.arange(144)\n",
    "        \n",
    "        self.Obstacles = np.random.choice(AllStates, self.nObstacles)\n",
    "        RemainingStates = np.delete(AllStates, self.Obstacles)\n",
    "        self.Litter = np.random.choice(RemainingStates, self.nLitter)\n",
    "        EmptyStates = np.delete(RemainingStates, self.Litter)\n",
    "        \n",
    "        # Random initialization of the state\n",
    "        self.state = np.random.choice(EmptyStates[:12])\n",
    "        return self.state\n",
    "        \n",
    "    # gives binary representation of surrounding states.\n",
    "    def getObstacles(self):\n",
    "        if (self.state+6) in self.Obstacles:\n",
    "            Obs = '1'\n",
    "        else:\n",
    "            Obs = '0'\n",
    "        if ((self.state-1)!=0 or (self.state-1)%6!=0) and (self.state-1) in self.Obstacles:\n",
    "            Obs += '1'\n",
    "        else:\n",
    "            Obs += '0'\n",
    "        if (self.state+1)%6!=0 and (self.state+1) in self.Obstacles:\n",
    "            Obs += '1'\n",
    "        else:\n",
    "            Obs += '0'\n",
    "        return Obs               \n",
    "            \n",
    "    def getLitter(self):\n",
    "        if (self.state+6) in self.Litter:\n",
    "            Lit = '1'\n",
    "        else:\n",
    "            Lit = '0'\n",
    "        if ((self.state-1)!=0 or (self.state-1)%6!=0) and (self.state-1) in self.Litter:\n",
    "            Lit += '1'\n",
    "        else:\n",
    "            Lit += '0'\n",
    "        if (self.state+1)%6!=0 and (self.state+1) in self.Litter:\n",
    "            Lit += '1'\n",
    "        else:\n",
    "            Lit += '0'\n",
    "        return Lit\n",
    "            \n",
    "    def step(self, action):   \n",
    "        assert action in range(self.spec.nA), \"Invalid action\"\n",
    "        assert self.state not in self.terminal_state, \"Episode has ended\"\n",
    "            \n",
    "        prevState = self.state\n",
    "        decObs_t = int(self.getObstacles(),2)\n",
    "        decLit_t = int(self.getLitter(),2)\n",
    "        self.state = np.random.choice(self.spec.nS, p=self.trans_mat[self.state, action])\n",
    "        decObs_t1 = int(self.getObstacles(),2)\n",
    "        decLit_t1 = int(self.getLitter(),2)   \n",
    "        \n",
    "        r1 = self.r1[prevState, action, self.state]\n",
    "        r2 = self.r2[prevState, action, self.state]\n",
    "        r3 = self.r3[decObs_t, action, decObs_t1]\n",
    "        r4 = self.r4[decLit_t, action, decLit_t1]\n",
    "        \n",
    "        if self.state in self.terminal_state:\n",
    "            return self.state, r1, r2, r3, r4, True\n",
    "        else:\n",
    "            return self.state, r1, r2, r3, r4, False \n",
    "        \n",
    "    def visualize(self, episode=0):\n",
    "        \n",
    "        Grid = np.zeros((6, 25))\n",
    "        \n",
    "        for i in range(6):\n",
    "            # Termination = 1\n",
    "            Grid[i][24] = 1\n",
    "            \n",
    "            # Sidewalk = 2 \n",
    "            if i == 2 or i == 3:\n",
    "                Grid[i][:24] = 2\n",
    "        \n",
    "        # Obstacles  = 3\n",
    "        for i in self.Obstacles:\n",
    "            Grid[i%6][int(i/6)] = 3\n",
    "        \n",
    "        # Litter = 4\n",
    "        for i in self.Litter:\n",
    "            Grid[i%6][int(i/6)] = 4\n",
    "            \n",
    "        cmap = colors.ListedColormap(['white', 'blue' , 'green', 'red', 'orange'])\n",
    "        \n",
    "        \n",
    "        plt.figure(figsize=(12,15))\n",
    "        plt.imshow(Grid, cmap = cmap)\n",
    "        \n",
    "        if episode != 0:\n",
    "            for i in episode:\n",
    "                plt.scatter(int(i/6),i%6, marker='*')\n",
    "\n",
    "        plt.title(\"Grid World\")\n",
    "        plt.show()"
   ]
  },
  {
   "cell_type": "code",
   "execution_count": 16,
   "metadata": {},
   "outputs": [
    {
     "name": "stdout",
     "output_type": "stream",
     "text": [
      "(2, -10.0, 0.0, -2.0, 0.0, False)\n"
     ]
    },
    {
     "data": {
      "image/png": "[encoded data removed]",
      "text/plain": [
       "<Figure size 864x1080 with 1 Axes>"
      ]
     },
     "metadata": {
      "needs_background": "light"
     },
     "output_type": "display_data"
    }
   ],
   "source": [
    "# Environment Testing\n",
    "env = GridWorld()\n",
    "TD = env.trans_mat\n",
    "env.spec.nS\n",
    "env.reset()\n",
    "env.state = 3\n",
    "print(env.step(1))\n",
    "env.visualize()"
   ]
  },
  {
   "cell_type": "markdown",
   "metadata": {},
   "source": [
    "## Epsilon Greedy Policy"
   ]
  },
  {
   "cell_type": "code",
   "execution_count": 17,
   "metadata": {},
   "outputs": [],
   "source": [
    "class EGPolicy(Policy):\n",
    "    def __init__(self, Q, e=0.05):\n",
    "        self.Q = Q\n",
    "        self.e = e\n",
    "        \n",
    "    def action_prob(self, state, action):\n",
    "        values = np.exp(self.Q[state][:])\n",
    "        summation = np.sum(values)\n",
    "        Prob = values[action]/summation\n",
    "        return Prob\n",
    "    \n",
    "    def action(self, state):\n",
    "        if np.random.rand() < self.e:\n",
    "            action = np.random.choice([0,1,2])\n",
    "        else:\n",
    "            action = np.argmax(self.Q[state][:])\n",
    "        return action    "
   ]
  },
  {
   "cell_type": "markdown",
   "metadata": {},
   "source": [
    "## Modular Q Learning "
   ]
  },
  {
   "cell_type": "code",
   "execution_count": 18,
   "metadata": {},
   "outputs": [],
   "source": [
    "# Q Learning on one Module\n",
    "def QLearning(\n",
    "    env,\n",
    "    pi:Policy,\n",
    "    n:int,\n",
    "    alpha:float\n",
    "    ):\n",
    "    \n",
    "    nS = env.spec.nS\n",
    "    nA = env.spec.nA\n",
    "    gamma = env.spec.gamma\n",
    "    \n",
    "    # Q values\n",
    "    QGoal = np.zeros((nS, nA))\n",
    "    QSw = np.zeros((nS, nA))\n",
    "    QObs = np.zeros((2**nA, nA))\n",
    "    QLit = np.zeros((2**nA, nA))\n",
    "    \n",
    "    # State Values\n",
    "    VGoal = np.zeros(nS)\n",
    "    VSw = np.zeros(nS)\n",
    "    VObs = np.zeros(2**nA)\n",
    "    VLit = np.zeros(2**nA)\n",
    "    \n",
    "    Trajectories = []\n",
    "    Returns = []\n",
    "    \n",
    "    for episode in tqdm_notebook(range(n)):\n",
    "        \n",
    "        isTerminated = False\n",
    "        state = env.reset()\n",
    "        traj = []\n",
    "        reward = [0,0,0,0]\n",
    "        actions = [0,1,2]\n",
    "        \n",
    "        while not isTerminated:\n",
    "            \n",
    "            # Getting policies (e-greedy)\n",
    "            pGoal = pi(QGoal)\n",
    "            pSw =  pi(QSw)\n",
    "            pObs = pi(QObs)\n",
    "            pLit = pi(QLit)\n",
    "            \n",
    "            # Getting actions for each module\n",
    "            sObs = int(env.getObstacles(), 2)\n",
    "            sLit = int(env.getLitter(), 2)\n",
    "            \n",
    "            a = [0,0,0,0]\n",
    "            a[0] = pGoal.action(state)\n",
    "            a[1] = pSw.action(state)\n",
    "            a[2] = pObs.action(sObs)\n",
    "            a[3] = pLit.action(sLit)\n",
    "            \n",
    "            m1 = np.max(QGoal)\n",
    "            m2 = np.max(QSw[state-6:])\n",
    "            m3 = np.max(QObs)\n",
    "            m4 = np.max(QLit)\n",
    "            \n",
    "            mean1 = np.mean(QGoal)\n",
    "            mean2 = np.mean(QGoal)\n",
    "            mean3 = np.mean(QGoal)\n",
    "            mean4 = np.mean(QGoal)\n",
    "            \n",
    "            # Choosing action with best immediate reward\n",
    "            index = np.argmax([env.w[0]*(QGoal[state][a[0]]-mean1)/m1, env.w[1]*(QSw[state][a[1]]-mean2)/m2 , env.w[2]*(QObs[sObs][a[2]]-mean3)/m3 , env.w[3]*(QLit[sLit][a[3]]-mean4)/m4])\n",
    "#             index = np.argmax(env.w[0]*(QGoal[state][:]) +  env.w[1]*(QSw[state][:]) + env.w[2]*(QObs[sObs][:]) + env.w[3]*(QLit[sLit][:]))\n",
    "            action = a[index]\n",
    "            \n",
    "            # Taking a step and getting rewards\n",
    "            s_hat, R1, R2, R3, R4, isTerminated = env.step(action)\n",
    "            \n",
    "            sObs_hat = int(env.getObstacles(), 2)\n",
    "            sLit_hat = int(env.getLitter(), 2)\n",
    "            \n",
    "            # Updating rewards\n",
    "            reward[0] += R1\n",
    "            reward[1] += R2\n",
    "            reward[2] += R3\n",
    "            reward[3] += R4\n",
    "            \n",
    "            # Updaing Q values\n",
    "            QGoal[state][action] = QGoal[state][action] + alpha*(R1 + 0.9*gamma*np.max(QGoal[s_hat][:]) - QGoal[state][action])\n",
    "            QSw[state][action] = QSw[state][action] + alpha*(R2 + 0.9*gamma*np.max(QSw[s_hat][:]) - QSw[state][action])\n",
    "            QObs[sObs][action] =  QObs[sObs][action] + alpha*(R3 + 0.0*np.max(QObs[sObs_hat][:]) -  QObs[sObs][action])\n",
    "            QLit[sLit][action] =  QLit[sLit][action] + alpha*(R4 + 0.0*np.max(QLit[sLit_hat][:]) -  QLit[sLit][action])\n",
    "            \n",
    "            # Update State Values\n",
    "            VGoal[state] = np.sum(np.multiply(pGoal.action_prob(state, np.arange(nA)), QGoal[state][:])) \n",
    "            VSw[state] = np.sum(np.multiply(pSw.action_prob(state, np.arange(nA)), QSw[state][:]))\n",
    "            VObs[sObs] = np.sum(np.multiply(pObs.action_prob(sObs, np.arange(nA)), QObs[sObs][:]))\n",
    "            VLit[sLit] = np.sum(np.multiply(pLit.action_prob(sLit, np.arange(nA)), QLit[sLit][:]))\n",
    "            \n",
    "            # Storing Trajectory\n",
    "            state = s_hat\n",
    "            traj.append(state)\n",
    "            \n",
    "        traj.append(s_hat)\n",
    "        Trajectories.append(traj)\n",
    "        Returns.append(reward)\n",
    "        if episode >= 0.999*n:\n",
    "            env.visualize(traj)\n",
    "    \n",
    "    return [QGoal, QSw, QObs, QLit], [VGoal, VSw, VObs, VLit], Trajectories, Returns"
   ]
  },
  {
   "cell_type": "markdown",
   "metadata": {},
   "source": [
    "## Trajectories of last 10 episodes"
   ]
  },
  {
   "cell_type": "code",
   "execution_count": 19,
   "metadata": {},
   "outputs": [
    {
     "name": "stdout",
     "output_type": "stream",
     "text": [
      "Plotting the last 10 tranining episodes\n"
     ]
    },
    {
     "name": "stderr",
     "output_type": "stream",
     "text": [
      "/home/bharath/.local/lib/python3.6/site-packages/ipykernel_launcher.py:28: TqdmDeprecationWarning: This function will be removed in tqdm==5.0.0\n",
      "Please use `tqdm.notebook.tqdm` instead of `tqdm.tqdm_notebook`\n"
     ]
    },
    {
     "data": {
      "application/vnd.jupyter.widget-view+json": {
       "model_id": "8bd0b6fbf45a4c54a8658428cbae92a7",
       "version_major": 2,
       "version_minor": 0
      },
      "text/plain": [
       "HBox(children=(FloatProgress(value=0.0, max=2000.0), HTML(value='')))"
      ]
     },
     "metadata": {},
     "output_type": "display_data"
    },
    {
     "name": "stderr",
     "output_type": "stream",
     "text": [
      "/home/bharath/.local/lib/python3.6/site-packages/ipykernel_launcher.py:115: DeprecationWarning: in the future out of bounds indices will raise an error instead of being ignored by `numpy.delete`.\n",
      "/home/bharath/.local/lib/python3.6/site-packages/ipykernel_launcher.py:65: RuntimeWarning: invalid value encountered in double_scalars\n",
      "/home/bharath/.local/lib/python3.6/site-packages/ipykernel_launcher.py:65: RuntimeWarning: divide by zero encountered in double_scalars\n"
     ]
    },
    {
     "data": {
      "image/png": "[encoded data removed]",
      "text/plain": [
       "<Figure size 864x1080 with 1 Axes>"
      ]
     },
     "metadata": {
      "needs_background": "light"
     },
     "output_type": "display_data"
    },
    {
     "data": {
      "image/png": "[encoded data removed]",
      "text/plain": [
       "<Figure size 864x1080 with 1 Axes>"
      ]
     },
     "metadata": {
      "needs_background": "light"
     },
     "output_type": "display_data"
    },
    {
     "name": "stdout",
     "output_type": "stream",
     "text": [
      "\n"
     ]
    }
   ],
   "source": [
    "# Simple Q-Learning Test\n",
    "Environment = GridWorld([1.,0,0,0])\n",
    "print(\"Plotting the last 10 tranining episodes\")\n",
    "QValues, SVals, Episodes, Returns = QLearning(Environment, EGPolicy, 2000, 0.1)"
   ]
  },
  {
   "cell_type": "markdown",
   "metadata": {},
   "source": [
    "## State values of all modules"
   ]
  },
  {
   "cell_type": "code",
   "execution_count": 11,
   "metadata": {},
   "outputs": [
    {
     "data": {
      "text/plain": [
       "Text(0.5, 0, 'd')"
      ]
     },
     "execution_count": 11,
     "metadata": {},
     "output_type": "execute_result"
    },
    {
     "data": {
      "image/png": "[encoded data removed]",
      "text/plain": [
       "<Figure size 1584x792 with 6 Axes>"
      ]
     },
     "metadata": {
      "needs_background": "light"
     },
     "output_type": "display_data"
    }
   ],
   "source": [
    "# PLotting value function\n",
    "\n",
    "y = np.arange(6)\n",
    "x = np.arange(25)\n",
    "X,Y = np.meshgrid(x,y)\n",
    "\n",
    "Z = SVals[0][X*6 + Y]\n",
    "fig,ax=plt.subplots(2,2, figsize=(22, 11))\n",
    "\n",
    "cp = ax[0,0].contourf(X, Y, Z)\n",
    "fig.colorbar(cp, ax=ax[0,0], shrink=0.9)\n",
    "ax[0,0].set_title('Goal Module', fontsize=14)\n",
    "ax[0,0].set_xlabel('a', fontsize=14)\n",
    "\n",
    "Z = SVals[1][X*6 + Y]\n",
    "cp = ax[0,1].contourf(X, Y, Z)\n",
    "ax[0,1].set_title('Side Walk Module', fontsize=14)\n",
    "fig.colorbar(cp, ax=ax[0,1], shrink=0.9)\n",
    "ax[0,1].set_xlabel('b', fontsize=14)\n",
    "\n",
    "ax[1,0].plot(range(8),SVals[2])\n",
    "ax[1,0].set_title('Obstacles Module', fontsize=14)\n",
    "ax[1,0].set_xlabel('c' ,fontsize=14)\n",
    "\n",
    "ax[1,1].plot(range(8),SVals[3])\n",
    "ax[1,1].set_title('Litter Module', fontsize=14)\n",
    "ax[1,1].set_xlabel('d', fontsize=14)\n"
   ]
  },
  {
   "cell_type": "code",
   "execution_count": 20,
   "metadata": {},
   "outputs": [
    {
     "data": {
      "image/png": "[encoded data removed]",
      "text/plain": [
       "<Figure size 720x288 with 2 Axes>"
      ]
     },
     "metadata": {
      "needs_background": "light"
     },
     "output_type": "display_data"
    }
   ],
   "source": [
    "# # Module Sidewalk\n",
    "y = np.arange(6)\n",
    "x = np.arange(25)\n",
    "X,Y = np.meshgrid(x,y)\n",
    "\n",
    "Z = SVals[0][X*6 + Y]\n",
    "\n",
    "fig,ax=plt.subplots(1,1, figsize=(10,4))\n",
    "cp = ax.contourf(X, Y, Z)\n",
    "fig.colorbar(cp) # Add a colorbar to a plot\n",
    "ax.set_title('Sidewalk Module State Values')\n",
    "plt.show()"
   ]
  },
  {
   "cell_type": "code",
   "execution_count": 371,
   "metadata": {},
   "outputs": [
    {
     "data": {
      "text/plain": [
       "Text(0.5, 1.0, 'Obstacles Module State Values')"
      ]
     },
     "execution_count": 371,
     "metadata": {},
     "output_type": "execute_result"
    },
    {
     "data": {
      "image/png": "[encoded data removed]",
      "text/plain": [
       "<Figure size 432x288 with 1 Axes>"
      ]
     },
     "metadata": {
      "needs_background": "light"
     },
     "output_type": "display_data"
    }
   ],
   "source": [
    "plt.plot(range(8),SVals[2])\n",
    "plt.title('Obstacles Module State Values')"
   ]
  },
  {
   "cell_type": "code",
   "execution_count": 372,
   "metadata": {},
   "outputs": [
    {
     "data": {
      "text/plain": [
       "Text(0.5, 1.0, 'Litter Module State Values')"
      ]
     },
     "execution_count": 372,
     "metadata": {},
     "output_type": "execute_result"
    },
    {
     "data": {
      "image/png": "[encoded data removed]",
      "text/plain": [
       "<Figure size 432x288 with 1 Axes>"
      ]
     },
     "metadata": {
      "needs_background": "light"
     },
     "output_type": "display_data"
    }
   ],
   "source": [
    "# Module - Litter\n",
    "plt.plot(range(8),SVals[3])\n",
    "plt.title('Litter Module State Values')"
   ]
  }
 ],
 "metadata": {
  "kernelspec": {
   "display_name": "Python 3",
   "language": "python",
   "name": "python3"
  },
  "language_info": {
   "codemirror_mode": {
    "name": "ipython",
    "version": 3
   },
   "file_extension": ".py",
   "mimetype": "text/x-python",
   "name": "python",
   "nbconvert_exporter": "python",
   "pygments_lexer": "ipython3",
   "version": "3.6.9"
  }
 },
 "nbformat": 4,
 "nbformat_minor": 4
}
