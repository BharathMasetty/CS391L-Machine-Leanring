{
 "cells": [
  {
   "cell_type": "code",
   "execution_count": 3,
   "metadata": {},
   "outputs": [],
   "source": [
    "import numpy as np\n",
    "from tqdm import tqdm_notebook\n",
    "from env import EnvSpec, Env, EnvWithModel\n",
    "from policy import Policy\n",
    "import matplotlib.pyplot as plt\n",
    "from matplotlib import colors\n",
    "from scipy import stats\n",
    "from mpl_toolkits import mplot3d"
   ]
  },
  {
   "cell_type": "code",
   "execution_count": 4,
   "metadata": {},
   "outputs": [],
   "source": [
    "class RandomPolicy(Policy):\n",
    "    def __init__(self, nA, p=None):\n",
    "        self.p = p if p is not None else np.array([1/nA]*nA)\n",
    "\n",
    "    def action_prob(self, state, action=None):\n",
    "        return self.p[action]\n",
    "\n",
    "    def action(self, state):\n",
    "        return np.random.choice(len(self.p), p=self.p)        "
   ]
  },
  {
   "cell_type": "markdown",
   "metadata": {},
   "source": [
    "# LIGHT WORLD DOMAIN"
   ]
  },
  {
   "cell_type": "code",
   "execution_count": 5,
   "metadata": {},
   "outputs": [],
   "source": [
    "class LightWorld(EnvWithModel):\n",
    "    \n",
    "    def __init__(self):\n",
    "        \n",
    "        self.stateDim = 17 # X,Y Positions + Room ID + 12 Light Sensor inputs.\n",
    "        self.nA = 6 # 0-Left, 1-Right, 2-Up, 3-Down, 4-Pickup, 5-Press.\n",
    "        self.nRooms = 4\n",
    "        # Room1 Properties - TODO: Convert these into dictionaries\n",
    "        self.IDs = [0,1,2,3]\n",
    "        self.actionProb = 0.9\n",
    "        \n",
    "        self.rooms = {\n",
    "            0 : {'Dim' : np.array([6,6]),\n",
    "                'Entry': np.array([2,1]),\n",
    "                'Door' : np.array([5,4]),\n",
    "                'Lock' : np.array([5,1]),\n",
    "                'Key'  : np.array([2,2])},\n",
    "\n",
    "            1 : {'Dim' : np.array([6,6]),\n",
    "                'Entry': np.array([1,4]),\n",
    "                'Door' : np.array([2,0]),\n",
    "                'Lock' : np.array([4,0]),\n",
    "                'Key'  : np.array([2,2])},\n",
    "            \n",
    "            2 : {'Dim' : np.array([6,6]),\n",
    "                'Entry': np.array([4,2]),\n",
    "                'Door' : np.array([0,4]),\n",
    "                'Lock' : np.array([0,2]),\n",
    "                'Key'  : np.array([2,2])},\n",
    "            \n",
    "            3 : {'Dim' : np.array([6,6]),\n",
    "                'Entry': np.array([4,2]),\n",
    "                'Door' : np.array([0,4]),\n",
    "                'Lock' : np.array([0,2]),\n",
    "                'Key'  : np.array([2,2])}            \n",
    "        }\n",
    "        \n",
    "        self.reset()\n",
    "        \n",
    "    def reset(self) -> np.array:\n",
    "        ## Initializes a random initial state in one of the rooms.        \n",
    "        #State Initialization\n",
    "        self.state = np.zeros((17))\n",
    "        # Randomly choosing room\n",
    "        self.state[0] = np.random.choice(self.IDs)\n",
    "        # Randomly Initiliazing x,y coordinates in a chosen room\n",
    "        self.state[1] = np.random.choice(np.arange(1, self.rooms[self.state[0]]['Dim'][0] -1))\n",
    "        self.state[2] = np.random.choice(np.arange(1, self.rooms[self.state[0]]['Dim'][1] -1))\n",
    "        # Key presence\n",
    "        self.state[3] = 0\n",
    "        # Lock Status\n",
    "        self.state[4] = 0\n",
    "        \n",
    "        self.updateLightSensor()\n",
    "        \n",
    "    \n",
    "    def updateLightSensor(self):\n",
    "        \n",
    "        self.state[5] = int(self.state[2]<self.rooms[self.state[0]]['Key'][1])\n",
    "        self.state[6] = int(self.state[2]<self.rooms[self.state[0]]['Door'][1])\n",
    "        self.state[7] = int(self.state[2]<self.rooms[self.state[0]]['Lock'][1])\n",
    "        # South \n",
    "        self.state[8] = int(self.state[2]>self.rooms[self.state[0]]['Key'][1])\n",
    "        self.state[9] = int(self.state[2]>self.rooms[self.state[0]]['Door'][1])\n",
    "        self.state[10] = int(self.state[2]>self.rooms[self.state[0]]['Lock'][1])\n",
    "        # East\n",
    "        self.state[11] = int(self.state[1]<self.rooms[self.state[0]]['Key'][0])\n",
    "        self.state[12] = int(self.state[1]<self.rooms[self.state[0]]['Door'][0])\n",
    "        self.state[13] = int(self.state[1]<self.rooms[self.state[0]]['Lock'][0])\n",
    "        # West\n",
    "        self.state[14] = int(self.state[1]>self.rooms[self.state[0]]['Key'][0])\n",
    "        self.state[15] = int(self.state[1]>self.rooms[self.state[0]]['Door'][0])\n",
    "        self.state[16] = int(self.state[1]>self.rooms[self.state[0]]['Lock'][0])\n",
    "   \n",
    "    # Check for requirements before calling these fundamental methods\n",
    "    def actLeft():\n",
    "        if np.random.rand() < self.actionProb:\n",
    "            self.state[1] -= 1\n",
    "    \n",
    "    def actRight():\n",
    "        if np.random.rand() < self.actionProb:\n",
    "            self.state[1] += 1 \n",
    "            \n",
    "    def actUp():\n",
    "        if np.random.rand() < self.actionProb:\n",
    "            self.state[2] += 1\n",
    "    \n",
    "    def actDown():\n",
    "        if np.random.rand() < self.actionProb:\n",
    "            self.state[2] -= 1\n",
    "            \n",
    "    def actPickup():\n",
    "        if np.random.rand() < self.actionProb:\n",
    "            self.state[3] = 1\n",
    "            self.keyPickup = True\n",
    "            \n",
    "    \n",
    "    def actPress():\n",
    "        if np.random.rand() < self.actionProb:\n",
    "            self.state[4] = 1\n",
    "            self.lockOpen = True\n",
    "            \n",
    "    def nextRoom():\n",
    "       \n",
    "        # update room ID\n",
    "        if self.state[0] < 4 : self.state[0] += 1\n",
    "        else: self.state[0] = 0\n",
    "        \n",
    "        #Update Position\n",
    "        self.state[1:3] == self.rooms[self.state[0]]['Entry']\n",
    "        self.roomChange = True\n",
    "        \n",
    "    \n",
    "    def Transition(self, a):\n",
    "        # Moving inside the room\n",
    "     \n",
    "        ID = self.rooms[self.state[0]]\n",
    "        Lock = self.rooms[ID]['Lock']\n",
    "        Door = self.rooms[ID]['Door']\n",
    "        \n",
    "        # Resetting boolens of rewarding actions\n",
    "        self.keyPickup = False\n",
    "        self.lockOpen = False\n",
    "        self.roomChange = False\n",
    "        \n",
    "        if (a == 0) and (self.state > 1): self.actLeft()\n",
    "        if (a == 1) and (self.state[1] < self.rooms[self.state[0]]['Dim'][0] - 2): self.actRight()\n",
    "        if (a == 2) and (self.state[2] < self.rooms[self.state[0]]['Dim'][1] - 2): self.actUp()                \n",
    "        if (a == 3) and (self.state[2] > 1): self.actDown()\n",
    "        if (a == 4) and (self.state[1:3] == self.rooms[self.state[0]]['Key']): self.actPickup()\n",
    "        \n",
    "        # Handling exceptions for moving into door and lock\n",
    "        if ((self.state[1] == Door[0]) or (self.state[1] == Lock[0])):\n",
    "            if self.state[2] == 1 and a == 3: self.actDown()\n",
    "            elif (self.state[2] == self.rooms[self.state[0]]['Dim'][1] - 2) and a == 2: self.actUp()\n",
    "            if self.state[1:3] == Door : self.nextRoom()\n",
    "        \n",
    "        if self.state[2] == Door[1] or self.state[2] == Lock[1]:\n",
    "            if self.state[1] == 1 and a == 0: self.actLeft()\n",
    "            elif (self.state[1] == self.rooms[self.state[0]]['Dim'][0] - 2) and a == 1: self.actRight()\n",
    "            if self.state[1:3] == Door : self.nextRoom()    \n",
    "        \n",
    "        if a == 5 and (self.state[1:3] == Lock): self.actPickup()\n",
    "            \n",
    "            \n",
    "    def R(self, a):\n",
    "        \n",
    "        if self.keyPickup: return 1.0\n",
    "        elif self.lockOpen: return 1.0\n",
    "        elif self.roomChange: return 10.0\n",
    "        \n",
    "        return -0.1       \n",
    "    \n",
    "    def step(self, action):\n",
    "        assert action in range(self.nA), \"Invalid action\"\n",
    "        \n",
    "        prevState = self.state\n",
    "        self.Transition(action)\n",
    "        reward = self.R(action)\n",
    "        \n",
    "        return self.state, reward\n",
    "    \n",
    "    def VisualizeMDP()\n",
    "        pass"
   ]
  },
  {
   "cell_type": "code",
   "execution_count": 6,
   "metadata": {},
   "outputs": [],
   "source": [
    "temp = LightWorld()"
   ]
  },
  {
   "cell_type": "code",
   "execution_count": 13,
   "metadata": {},
   "outputs": [
    {
     "data": {
      "text/plain": [
       "array([4., 4.])"
      ]
     },
     "execution_count": 13,
     "metadata": {},
     "output_type": "execute_result"
    }
   ],
   "source": [
    "temp.state[1:3]\n"
   ]
  },
  {
   "cell_type": "code",
   "execution_count": 14,
   "metadata": {},
   "outputs": [
    {
     "data": {
      "text/plain": [
       "array([3., 4., 4., 0., 0., 0., 0., 0., 1., 0., 1., 0., 0., 0., 1., 1., 1.])"
      ]
     },
     "execution_count": 14,
     "metadata": {},
     "output_type": "execute_result"
    }
   ],
   "source": [
    "temp.state"
   ]
  },
  {
   "cell_type": "code",
   "execution_count": 18,
   "metadata": {},
   "outputs": [
    {
     "name": "stdout",
     "output_type": "stream",
     "text": [
      "1\n"
     ]
    }
   ],
   "source": [
    "a = 1\n",
    "b = 1\n",
    "print(int(a==b))"
   ]
  },
  {
   "cell_type": "code",
   "execution_count": null,
   "metadata": {},
   "outputs": [],
   "source": []
  }
 ],
 "metadata": {
  "kernelspec": {
   "display_name": "Python 3",
   "language": "python",
   "name": "python3"
  },
  "language_info": {
   "codemirror_mode": {
    "name": "ipython",
    "version": 3
   },
   "file_extension": ".py",
   "mimetype": "text/x-python",
   "name": "python",
   "nbconvert_exporter": "python",
   "pygments_lexer": "ipython3",
   "version": "3.6.9"
  }
 },
 "nbformat": 4,
 "nbformat_minor": 4
}
